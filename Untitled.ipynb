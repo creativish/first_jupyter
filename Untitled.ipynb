{
  "metadata": {
    "language_info": {
      "codemirror_mode": {
        "name": "python",
        "version": 3
      },
      "file_extension": ".py",
      "mimetype": "text/x-python",
      "name": "python",
      "nbconvert_exporter": "python",
      "pygments_lexer": "ipython3",
      "version": "3.8"
    },
    "kernelspec": {
      "name": "python",
      "display_name": "Python (Pyodide)",
      "language": "python"
    }
  },
  "nbformat_minor": 4,
  "nbformat": 4,
  "cells": [
    {
      "cell_type": "markdown",
      "source": "# My Jupyter Notebook on IBM Watson Studio",
      "metadata": {}
    },
    {
      "cell_type": "markdown",
      "source": "#  **Vishal Pratap Singh**\n### I want to be Data Scientist in Sports Industry ",
      "metadata": {}
    },
    {
      "cell_type": "markdown",
      "source": "*I am interested in data science because I want to be rich*",
      "metadata": {}
    },
    {
      "cell_type": "markdown",
      "source": "### Writing a code for 1 + 1 in next cell",
      "metadata": {}
    },
    {
      "cell_type": "code",
      "source": "print(1 + 1)",
      "metadata": {
        "trusted": true
      },
      "execution_count": 2,
      "outputs": [
        {
          "name": "stdout",
          "text": "2\n",
          "output_type": "stream"
        }
      ]
    },
    {
      "cell_type": "markdown",
      "source": "___",
      "metadata": {}
    },
    {
      "cell_type": "markdown",
      "source": "* one\n* two\n* three",
      "metadata": {}
    },
    {
      "cell_type": "markdown",
      "source": "1. one\n2. two\n3. three",
      "metadata": {}
    },
    {
      "cell_type": "markdown",
      "source": "> blockquote",
      "metadata": {}
    },
    {
      "cell_type": "code",
      "source": "",
      "metadata": {},
      "execution_count": null,
      "outputs": []
    }
  ]
}